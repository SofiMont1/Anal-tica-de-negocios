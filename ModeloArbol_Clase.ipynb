{
  "nbformat": 4,
  "nbformat_minor": 0,
  "metadata": {
    "colab": {
      "provenance": [],
      "authorship_tag": "ABX9TyOli+Sr+38nMuszRRyendP4",
      "include_colab_link": true
    },
    "kernelspec": {
      "name": "python3",
      "display_name": "Python 3"
    },
    "language_info": {
      "name": "python"
    }
  },
  "cells": [
    {
      "cell_type": "markdown",
      "metadata": {
        "id": "view-in-github",
        "colab_type": "text"
      },
      "source": [
        "<a href=\"https://colab.research.google.com/github/SofiMont1/Anal-tica-de-negocios/blob/main/ModeloArbol_Clase.ipynb\" target=\"_parent\"><img src=\"https://colab.research.google.com/assets/colab-badge.svg\" alt=\"Open In Colab\"/></a>"
      ]
    },
    {
      "cell_type": "markdown",
      "source": [
        "**Arboles de Decisión**\n",
        "0. Cargar las librerías de referencia para el modelo"
      ],
      "metadata": {
        "id": "M6gxMBRymrpl"
      }
    },
    {
      "cell_type": "code",
      "source": [
        "import pandas as pd\n",
        "import numpy as np\n",
        "import matplotlib.pyplot as plt #Graficador de cosas\n",
        "from sklearn.tree import DecisionTreeClassifier"
      ],
      "metadata": {
        "id": "KySr35iemy8D"
      },
      "execution_count": null,
      "outputs": []
    },
    {
      "cell_type": "code",
      "source": [
        "#Para no tener que cargar el archivo\n",
        "from google.colab import drive\n",
        "drive.mount('/content/drive')"
      ],
      "metadata": {
        "colab": {
          "base_uri": "https://localhost:8080/"
        },
        "id": "Fzo2tMzZoLEa",
        "outputId": "520aadc6-e702-4ed6-c9ec-0049f51b5b41"
      },
      "execution_count": null,
      "outputs": [
        {
          "output_type": "stream",
          "name": "stdout",
          "text": [
            "Mounted at /content/drive\n"
          ]
        }
      ]
    },
    {
      "cell_type": "markdown",
      "source": [
        "1. Se procede con la carga de los datos del archivo SolicitantesCredito"
      ],
      "metadata": {
        "id": "3_9BTgwup2JO"
      }
    },
    {
      "cell_type": "code",
      "source": [
        "nxl='/content/drive/MyDrive/Analítica de negocios/0. SolicitantesCrédito(USD) (2).xlsx'\n",
        "XDB=pd.read_excel(nxl,sheet_name=1)\n",
        "XDB=XDB.dropna() #Elimina celdas vacias\n",
        "XDB.head(100)\n",
        "\n",
        "#Se procede con la selección de las variables de trabajo\n",
        "XD=np.array(XDB[['Edad', 'Ingresos', 'Egresos', 'Monto (EAD)']]) #Datos entrada\n",
        "yd=np.array(XDB[['PreApr']]) #Este es el dato que quiero que el modelo pronóstique\n",
        "print(yd)"
      ],
      "metadata": {
        "colab": {
          "base_uri": "https://localhost:8080/"
        },
        "id": "hlVKRzXqpqxZ",
        "outputId": "d897208f-e85b-45ea-b376-09bc8ad08265"
      },
      "execution_count": null,
      "outputs": [
        {
          "output_type": "stream",
          "name": "stdout",
          "text": [
            "[[1]\n",
            " [1]\n",
            " [0]\n",
            " ...\n",
            " [1]\n",
            " [1]\n",
            " [1]]\n"
          ]
        }
      ]
    },
    {
      "cell_type": "markdown",
      "source": [
        "2. Creación del modelo - Decision Tree"
      ],
      "metadata": {
        "id": "ONIWOT7Bskwf"
      }
    },
    {
      "cell_type": "code",
      "source": [
        "mar=DecisionTreeClassifier(criterion=\"gini\", max_depth = 4) #4 niveles o variables de entrada\n",
        "mar.fit(XD,yd)\n",
        "ydp=mar.predict (XD)\n",
        "\n",
        "from sklearn.metrics import confusion_matrix\n",
        "cm = confusion_matrix(yd, ydp)\n",
        "print(cm)\n",
        "\n",
        "#Evaluamos el modelo\n",
        "VN=cm [0,0]; FP=cm [0,1]; FN=cm [1,0]; VP=cm [1,1]\n",
        "\n",
        "Ex=(VP+VN)/(VP+VN+FP+FN) #Que porcentaje de los datos pronóstico correctamente\n",
        "print(\"La exactitud alcanzada por el modelo es\",Ex)\n",
        "Se=VP/(FN+VP) #Como le fue con los positivos\n",
        "print(\"La sensibilidad alcanzada por el modelo es\",Se)"
      ],
      "metadata": {
        "colab": {
          "base_uri": "https://localhost:8080/"
        },
        "id": "atMFfc5cspBy",
        "outputId": "8c645984-a0cb-498c-a840-faf15ca3692b"
      },
      "execution_count": null,
      "outputs": [
        {
          "output_type": "stream",
          "name": "stdout",
          "text": [
            "[[2301  658]\n",
            " [ 644 2239]]\n",
            "La exactitud alcanzada por el modelo es 0.7771311194796303\n",
            "La sensibilidad alcanzada por el modelo es 0.7766215747485259\n"
          ]
        }
      ]
    },
    {
      "cell_type": "markdown",
      "source": [
        "3. ¿Y dónde está est árbol?"
      ],
      "metadata": {
        "id": "FNEnNZwOwBDp"
      }
    },
    {
      "cell_type": "code",
      "source": [
        "#Estas son las librearías para graficar el árbol\n",
        "from sklearn.tree import export_graphviz\n",
        "from pydotplus import graph_from_dot_data\n",
        "\n",
        "vs=['Edad', 'Ingresos', 'Egresos', 'Monto (EAD)'] #Son los títulos para los nodos\n",
        "dot_graph=export_graphviz(mar,feature_names=vs)\n",
        "graph=graph_from_dot_data(dot_graph)\n",
        "graph.write_png('arbol.png')"
      ],
      "metadata": {
        "colab": {
          "base_uri": "https://localhost:8080/"
        },
        "id": "cy8NrJ30wH6a",
        "outputId": "22c33a25-6db6-4d6e-bb2a-e3823eb48d3f"
      },
      "execution_count": null,
      "outputs": [
        {
          "output_type": "execute_result",
          "data": {
            "text/plain": [
              "True"
            ]
          },
          "metadata": {},
          "execution_count": 21
        }
      ]
    },
    {
      "cell_type": "markdown",
      "source": [
        "4.Se procede con el pronóstico de nuevos solicitantes"
      ],
      "metadata": {
        "id": "u5TsGXSp6juq"
      }
    },
    {
      "cell_type": "code",
      "source": [
        "XDB2=pd.read_excel(nxl,sheet_name=2)\n",
        "XDB2=XDB2.dropna() #Elimina celdas vacias\n",
        "XDB2.head(100)\n",
        "\n",
        "XD2=np.array(XDB2[['Edad', 'Ingresos', 'Egresos', 'Monto (EAD)']]) #Datos entrada\n",
        "print(XD2)\n",
        "\n",
        "#Pronosticamos la PreAprobación\n",
        "ydp2=mar.predict (XD2)\n",
        "print(ydp2)\n",
        "print(\"El número de PreAprobados es:\",np.sum(ydp2))\n",
        "print(\"El número total de datos es:\",len(ydp2))\n",
        "print(\"El número de PreNegados es:\",len(ydp2)-np.sum(ydp2))"
      ],
      "metadata": {
        "colab": {
          "base_uri": "https://localhost:8080/"
        },
        "id": "1D3h4o4p6kN6",
        "outputId": "84c6b0ed-493b-494a-db4d-623e3f216029"
      },
      "execution_count": null,
      "outputs": [
        {
          "output_type": "stream",
          "name": "stdout",
          "text": [
            "[[  38.          383.67775     368.59866667  175.84723507]\n",
            " [  47.           34.1875       38.03444444   26.95587069]\n",
            " [  46.         1774.305      2116.72377778  705.43470796]\n",
            " ...\n",
            " [  32.          283.26575     170.26644444  225.30034584]\n",
            " [  35.          768.288       847.26444444  479.16423193]\n",
            " [  24.          487.598       376.18355556  424.283721  ]]\n",
            "[0 0 1 ... 0 1 0]\n",
            "El número de PreAprobados es: 1260\n",
            "El número total de datos es: 2536\n",
            "El número de PreNegados es: 1276\n"
          ]
        }
      ]
    },
    {
      "cell_type": "markdown",
      "source": [
        "**Anális de datos**\n",
        "De acuerdo con la base de datos suministrada y el nodo base del árbol de decisión se puede observar un total de 5842 datos, divididos en 2959 PreAprobados y un total de 2883 PreNegados, esto representa el 51% y el 49% respectivamente. D eacuerdo con el pronóstco realizado por el modelo, este alcanzó una exactitud cercana al 77%, valores que fueorn similares a la Sensibilidad que mide el comportamiento del modelo frente a la calsificación de los PreAprobados, así como frente a la Especificidad, indicador que mide el comportamiento frente a la clasificación de los PreNegados.  Se destaca el nodo Puro \"[PreNeg:10, PreApr:0]\", en donde los solicitantes de crédito deben cumplir con la siguiente regla: SI Ing>644 AND Egr<=685 AND Ing>376 AND Monto>=322.\n",
        "Con respecto al pronóstico, se puede observar un total de 2536 individuos sin PreAprobación, de los cuales un total de 1260 pueden ser PreAprobados y un total de 1276 que pueden ser PreNegados."
      ],
      "metadata": {
        "id": "4rvl3Yo98ijZ"
      }
    }
  ]
}