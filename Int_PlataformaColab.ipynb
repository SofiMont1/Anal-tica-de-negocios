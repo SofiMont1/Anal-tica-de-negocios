{
  "nbformat": 4,
  "nbformat_minor": 0,
  "metadata": {
    "colab": {
      "provenance": [],
      "authorship_tag": "ABX9TyNohWCqME9zoX+uxvdRRhMk",
      "include_colab_link": true
    },
    "kernelspec": {
      "name": "python3",
      "display_name": "Python 3"
    },
    "language_info": {
      "name": "python"
    }
  },
  "cells": [
    {
      "cell_type": "markdown",
      "metadata": {
        "id": "view-in-github",
        "colab_type": "text"
      },
      "source": [
        "<a href=\"https://colab.research.google.com/github/SofiMont1/Anal-tica-de-negocios/blob/main/Int_PlataformaColab.ipynb\" target=\"_parent\"><img src=\"https://colab.research.google.com/assets/colab-badge.svg\" alt=\"Open In Colab\"/></a>"
      ]
    },
    {
      "cell_type": "markdown",
      "source": [
        "0. Cargar librerías"
      ],
      "metadata": {
        "id": "m1YjEtt7JHmf"
      }
    },
    {
      "cell_type": "code",
      "source": [
        "import numpy as np #Funciones númericas par la tranformación y análisis de datos\n",
        "import pandas as pd #Conectar el sistema con las bases de datos"
      ],
      "metadata": {
        "id": "oMmz_G3OJKXG"
      },
      "execution_count": null,
      "outputs": []
    },
    {
      "cell_type": "markdown",
      "source": [
        "1. Conexión con la base de datos"
      ],
      "metadata": {
        "id": "ZuPjJ6vfJk3l"
      }
    },
    {
      "cell_type": "code",
      "source": [
        "nxl=\"/content/0. SolicitantesCrédito(Quiz 1).xlsx\"\n",
        "XDB=pd.read_excel(nxl,sheet_name=0) #DataFrame: Tabla de datos"
      ],
      "metadata": {
        "id": "AzRElj_pJneH"
      },
      "execution_count": null,
      "outputs": []
    },
    {
      "cell_type": "markdown",
      "source": [
        "2. Llamar la variable de caracterización (Edad)"
      ],
      "metadata": {
        "id": "HMGqRoTeLWO2"
      }
    },
    {
      "cell_type": "code",
      "source": [],
      "metadata": {
        "id": "HzWQZDKmMn6y"
      },
      "execution_count": null,
      "outputs": []
    },
    {
      "cell_type": "code",
      "source": [
        "XDe=XDB[['Edad']]\n",
        "print(XDe)\n",
        "XDe=XDe.dropna() #Evitar celdas vacias\n",
        "XDe=np.array(XDe)"
      ],
      "metadata": {
        "colab": {
          "base_uri": "https://localhost:8080/"
        },
        "id": "VSS-9BTXMBmM",
        "outputId": "aa38d341-8bef-4053-87f4-9e50cc10e5fe"
      },
      "execution_count": null,
      "outputs": [
        {
          "output_type": "stream",
          "name": "stdout",
          "text": [
            "      Edad\n",
            "0       38\n",
            "1       51\n",
            "2       37\n",
            "3       29\n",
            "4       42\n",
            "...    ...\n",
            "8373    31\n",
            "8374    38\n",
            "8375    43\n",
            "8376    37\n",
            "8377    24\n",
            "\n",
            "[8378 rows x 1 columns]\n"
          ]
        }
      ]
    },
    {
      "cell_type": "markdown",
      "source": [
        "3. Se calcula la media y la desviación estándar de la edad"
      ],
      "metadata": {
        "id": "KKw2OxE4MpGR"
      }
    },
    {
      "cell_type": "code",
      "source": [
        "print(\"La media de la edad es:\",np.mean(XDe))\n",
        "print(\"La desviación estándar de la variable es\",np.std(XDe))\n",
        "print(\"La edad mínima es:\",np.mean(XDe)-2*np.std(XDe))\n",
        "print(\"La edad máxima es:\",np.mean(XDe)+2*np.std(XDe))"
      ],
      "metadata": {
        "colab": {
          "base_uri": "https://localhost:8080/"
        },
        "id": "nsWwD3KJNAp7",
        "outputId": "76a68ab7-d8ae-4e02-e6b1-7e74c6c7a67f"
      },
      "execution_count": null,
      "outputs": [
        {
          "output_type": "stream",
          "name": "stdout",
          "text": [
            "La media de la edad es: 40.913583194079735\n",
            "La desviación estándar de la variable es 12.22583035765565\n",
            "La edad mínima es: 16.461922478768436\n",
            "La edad máxima es: 65.36524390939104\n"
          ]
        }
      ]
    },
    {
      "cell_type": "markdown",
      "source": [
        "4. Histogramas de frecuencia - Agrupar los datos por intervalos"
      ],
      "metadata": {
        "id": "yc9KUEglOZkO"
      }
    },
    {
      "cell_type": "code",
      "source": [
        "import matplotlib.pyplot as ptl\n",
        "ptl.hist(XDe, bins=20)\n",
        "ptl.show"
      ],
      "metadata": {
        "colab": {
          "base_uri": "https://localhost:8080/",
          "height": 599
        },
        "id": "VX8oA4xxOncv",
        "outputId": "681bf9a2-4a9a-40fc-e7ae-cd6c03e70e49"
      },
      "execution_count": null,
      "outputs": [
        {
          "output_type": "execute_result",
          "data": {
            "text/plain": [
              "<function matplotlib.pyplot.show(close=None, block=None)>"
            ],
            "text/html": [
              "<div style=\"max-width:800px; border: 1px solid var(--colab-border-color);\"><style>\n",
              "      pre.function-repr-contents {\n",
              "        overflow-x: auto;\n",
              "        padding: 8px 12px;\n",
              "        max-height: 500px;\n",
              "      }\n",
              "\n",
              "      pre.function-repr-contents.function-repr-contents-collapsed {\n",
              "        cursor: pointer;\n",
              "        max-height: 100px;\n",
              "      }\n",
              "    </style>\n",
              "    <pre style=\"white-space: initial; background:\n",
              "         var(--colab-secondary-surface-color); padding: 8px 12px;\n",
              "         border-bottom: 1px solid var(--colab-border-color);\"><b>matplotlib.pyplot.show</b><br/>def show(*args, **kwargs)</pre><pre class=\"function-repr-contents function-repr-contents-collapsed\" style=\"\"><a class=\"filepath\" style=\"display:none\" href=\"#\">/usr/local/lib/python3.10/dist-packages/matplotlib/pyplot.py</a>Display all open figures.\n",
              "\n",
              "Parameters\n",
              "----------\n",
              "block : bool, optional\n",
              "    Whether to wait for all figures to be closed before returning.\n",
              "\n",
              "    If `True` block and run the GUI main loop until all figure windows\n",
              "    are closed.\n",
              "\n",
              "    If `False` ensure that all figure windows are displayed and return\n",
              "    immediately.  In this case, you are responsible for ensuring\n",
              "    that the event loop is running to have responsive figures.\n",
              "\n",
              "    Defaults to True in non-interactive mode and to False in interactive\n",
              "    mode (see `.pyplot.isinteractive`).\n",
              "\n",
              "See Also\n",
              "--------\n",
              "ion : Enable interactive mode, which shows / updates the figure after\n",
              "      every plotting command, so that calling ``show()`` is not necessary.\n",
              "ioff : Disable interactive mode.\n",
              "savefig : Save the figure to an image file instead of showing it on screen.\n",
              "\n",
              "Notes\n",
              "-----\n",
              "**Saving figures to file and showing a window at the same time**\n",
              "\n",
              "If you want an image file as well as a user interface window, use\n",
              "`.pyplot.savefig` before `.pyplot.show`. At the end of (a blocking)\n",
              "``show()`` the figure is closed and thus unregistered from pyplot. Calling\n",
              "`.pyplot.savefig` afterwards would save a new and thus empty figure. This\n",
              "limitation of command order does not apply if the show is non-blocking or\n",
              "if you keep a reference to the figure and use `.Figure.savefig`.\n",
              "\n",
              "**Auto-show in jupyter notebooks**\n",
              "\n",
              "The jupyter backends (activated via ``%matplotlib inline``,\n",
              "``%matplotlib notebook``, or ``%matplotlib widget``), call ``show()`` at\n",
              "the end of every cell by default. Thus, you usually don&#x27;t have to call it\n",
              "explicitly there.</pre>\n",
              "      <script>\n",
              "      if (google.colab.kernel.accessAllowed && google.colab.files && google.colab.files.view) {\n",
              "        for (const element of document.querySelectorAll('.filepath')) {\n",
              "          element.style.display = 'block'\n",
              "          element.onclick = (event) => {\n",
              "            event.preventDefault();\n",
              "            event.stopPropagation();\n",
              "            google.colab.files.view(element.textContent, 401);\n",
              "          };\n",
              "        }\n",
              "      }\n",
              "      for (const element of document.querySelectorAll('.function-repr-contents')) {\n",
              "        element.onclick = (event) => {\n",
              "          event.preventDefault();\n",
              "          event.stopPropagation();\n",
              "          element.classList.toggle('function-repr-contents-collapsed');\n",
              "        };\n",
              "      }\n",
              "      </script>\n",
              "      </div>"
            ]
          },
          "metadata": {},
          "execution_count": 13
        },
        {
          "output_type": "display_data",
          "data": {
            "text/plain": [
              "<Figure size 640x480 with 1 Axes>"
            ],
            "image/png": "[encoded data removed]"
          },
          "metadata": {}
        }
      ]
    },
    {
      "cell_type": "markdown",
      "source": [
        "5. Calcular el valor de pertenencia para una persona de 60 años (0,1) - Afinidad de un valor por una variable aleatoria."
      ],
      "metadata": {
        "id": "B5GhRtz2PLBs"
      }
    },
    {
      "cell_type": "code",
      "source": [
        "VP=np.exp(-0.5*((60-np.mean(XDe))/np.std(XDe))**2)\n",
        "print(\"El valor de pertenencia para una persona de 60 años es:\", VP)"
      ],
      "metadata": {
        "colab": {
          "base_uri": "https://localhost:8080/"
        },
        "id": "BsA2_P3wPmZ9",
        "outputId": "fc817da5-f761-4b76-dfd3-864aa494e1f9"
      },
      "execution_count": null,
      "outputs": [
        {
          "output_type": "stream",
          "name": "stdout",
          "text": [
            "El valor de pertenencia para una persona de 60 años es: 0.2956430260860924\n"
          ]
        }
      ]
    }
  ]
}