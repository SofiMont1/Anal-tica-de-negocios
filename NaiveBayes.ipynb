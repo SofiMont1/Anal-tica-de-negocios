{
  "nbformat": 4,
  "nbformat_minor": 0,
  "metadata": {
    "colab": {
      "provenance": [],
      "authorship_tag": "ABX9TyMtEZ+EjbQapxyhoouUmoPz",
      "include_colab_link": true
    },
    "kernelspec": {
      "name": "python3",
      "display_name": "Python 3"
    },
    "language_info": {
      "name": "python"
    }
  },
  "cells": [
    {
      "cell_type": "markdown",
      "metadata": {
        "id": "view-in-github",
        "colab_type": "text"
      },
      "source": [
        "<a href=\"https://colab.research.google.com/github/SofiMont1/Anal-tica-de-negocios/blob/main/NaiveBayes.ipynb\" target=\"_parent\"><img src=\"https://colab.research.google.com/assets/colab-badge.svg\" alt=\"Open In Colab\"/></a>"
      ]
    },
    {
      "cell_type": "markdown",
      "source": [
        "*Modelo de ApreAprobación - Naive Bayes**\n",
        "0. Se procede con la carga de librerías de trabajo"
      ],
      "metadata": {
        "id": "OUhNeNjXi0Fo"
      }
    },
    {
      "cell_type": "code",
      "source": [
        "import numpy as np #Funciones Matemáticas\n",
        "import pandas as pd #Comunicación con Excel\n",
        "from sklearn.naive_bayes import GaussianNB #Función Gaussiana\n",
        "from sklearn.metrics import confusion_matrix #La métrica de medida\n"
      ],
      "metadata": {
        "id": "QuFRvfHtjwRo"
      },
      "execution_count": null,
      "outputs": []
    },
    {
      "cell_type": "markdown",
      "source": [
        "1. Se cargan los datos"
      ],
      "metadata": {
        "id": "_FyfXjm7kSBP"
      }
    },
    {
      "cell_type": "code",
      "source": [
        "nxl='/content/SolicitantesCrédito(USD).xlsx'\n",
        "XDB=pd.read_excel(nxl,sheet_name=2)\n",
        "XDB.dropna() #Eliminar datos faltantes, celdas vacias\n",
        "print(XDB) #Mostrar la base de datos\n",
        "\n",
        "#Seleccionar las variables de interes\n",
        "XDB=XDB[['Edad','Ingresos','Egresos','Cuota (COP)','PreApr']]\n",
        "\n",
        "#Datos de Entrada - np.array() - Convertir a numeros\n",
        "XD=np.array(XDB[['Edad','Ingresos','Egresos','Cuota (COP)']])\n",
        "\n",
        "#Datos de Salida - Valor deseado - Que quiero que aprenda el modelo\n",
        "yd=np.array(XDB['PreApr'])\n"
      ],
      "metadata": {
        "colab": {
          "base_uri": "https://localhost:8080/"
        },
        "id": "WdEmjmbUkt02",
        "outputId": "ea70b68e-0783-446e-9844-0264a0b11fcb"
      },
      "execution_count": null,
      "outputs": [
        {
          "output_type": "stream",
          "name": "stdout",
          "text": [
            "      Unnamed: 0  Edad    Sexo Estado civil  Hijos  Perscargo  Nivel Renta  \\\n",
            "0              1    38      NR       Casado      1          0            0   \n",
            "1              2    51      NR     Separado      6          1            1   \n",
            "2              3    37   Mujer       Casado      2          0            0   \n",
            "3              4    29      NR     Separado      1          0            0   \n",
            "4              5    42   Mujer       Casado      3          4            4   \n",
            "...          ...   ...     ...          ...    ...        ...          ...   \n",
            "5837        8372    48  Hombre     Separado      0          0            0   \n",
            "5838        8374    31  Hombre      Soltero      2          0            0   \n",
            "5839        8375    38  Hombre     Separado      0          0            0   \n",
            "5840        8376    43   Mujer       Casado      1          2            2   \n",
            "5841        8377    37   Mujer       Casado      1          2            2   \n",
            "\n",
            "      Estrato Nivel de estudios  Tipo de contrato  ...  Plazo  Cuota (COP)  \\\n",
            "0           3         Bachiller           Ninguno  ...     48    18.375890   \n",
            "1           4           Técnico           Ninguno  ...     36     5.062492   \n",
            "2           3         Tecnólogo        Indefinido  ...     36    10.287688   \n",
            "3           2         Tecnólogo           Ninguno  ...     24    15.458878   \n",
            "4           2   Especializacion           Ninguno  ...     24    24.995180   \n",
            "...       ...               ...               ...  ...    ...          ...   \n",
            "5837        3         Tecnólogo              Fijo  ...     36    27.043503   \n",
            "5838        5         Bachiller        Indefinido  ...     48    25.579568   \n",
            "5839        3         Bachiller  Labor Contratada  ...     36    21.508792   \n",
            "5840        2         Tecnólogo           Ninguno  ...     36    11.047468   \n",
            "5841        3         Tecnólogo        Indefinido  ...     36    36.356182   \n",
            "\n",
            "                ConoCliente          Garantia            RespPat  \\\n",
            "0        Buenas Referencias      Sin Codeudor     Sin Patrimonio   \n",
            "1        Buenas Referencias      Sin Codeudor  Prop.sin Hipoteca   \n",
            "2        Buenas Referencias  Con Codeudor(es)     Sin Patrimonio   \n",
            "3        Buenas Referencias  Con Codeudor(es)     Sin Patrimonio   \n",
            "4        Buenas Referencias  Con Codeudor(es)     Sin Patrimonio   \n",
            "...                     ...               ...                ...   \n",
            "5837     Buenas Referencias      Sin Codeudor  Prop.sin Hipoteca   \n",
            "5838  Buena Experiencia CFB      Sin Codeudor     Sin Patrimonio   \n",
            "5839     Buenas Referencias      Sin Codeudor  Prop.sin Hipoteca   \n",
            "5840     Buenas Referencias      Sin Codeudor     Sin Patrimonio   \n",
            "5841     Buenas Referencias  Con Codeudor(es)     Sin Patrimonio   \n",
            "\n",
            "                      MoraCome  PreApr  Prob.Default (PD)       Score  \\\n",
            "0     Con Experiencia sin Mora       1           0.041659  582.478943   \n",
            "1     Con Experiencia sin Mora       1           0.234951  479.839966   \n",
            "2     Con Experiencia sin Mora       0           0.170330  417.653107   \n",
            "3     Con Experiencia sin Mora       1           0.201659  316.791107   \n",
            "4     Con Experiencia sin Mora       1           0.140929  441.809570   \n",
            "...                        ...     ...                ...         ...   \n",
            "5837  Con Experiencia sin Mora       1           0.056132  550.980408   \n",
            "5838  Con Experiencia sin Mora       1           0.035120  659.471375   \n",
            "5839  Con Experiencia sin Mora       1           0.101976  465.011536   \n",
            "5840  Con Experiencia sin Mora       1           0.156707  423.237305   \n",
            "5841  Con Experiencia sin Mora       1           0.037719  592.670837   \n",
            "\n",
            "           LGD  \n",
            "0     0.063702  \n",
            "1     0.465636  \n",
            "2     0.290071  \n",
            "3     0.278389  \n",
            "4     0.203359  \n",
            "...        ...  \n",
            "5837  0.091441  \n",
            "5838  0.066962  \n",
            "5839  0.165936  \n",
            "5840  0.247763  \n",
            "5841  0.051356  \n",
            "\n",
            "[5842 rows x 36 columns]\n"
          ]
        }
      ]
    },
    {
      "cell_type": "markdown",
      "source": [
        "2. Implementamos Modelo"
      ],
      "metadata": {
        "id": "VGuxZnEin5_b"
      }
    },
    {
      "cell_type": "code",
      "source": [
        "from functools import cmp_to_key\n",
        "mnb=GaussianNB() #LLamamos el modelo\n",
        "mnb.fit(XD,yd)\n",
        "ydp=mnb.predict(XD) #muetsra los datos de salida - pero que el obtuvo\n",
        "\n",
        "#Digame las medidas de las variables para cada categoria - PreApr/PreNeg\n",
        "u=mnb.theta_ #Se estiman las medidas\n",
        "sigma=np.sqrt(mnb.var_) #Se estiman las varianzas\n",
        "\n",
        "#Las variaciones de las variables\n",
        "LI=u-sigma\n",
        "LS=u+sigma\n",
        "\n",
        "print(\"La media de las variables por categoría:\")\n",
        "print(u)\n",
        "print(\"El limite inferior de la variación de las variables por categoria es:\")\n",
        "print(LI)\n",
        "print(\"El limite superior de la variación de las variables por categoria es:\")\n",
        "print (LS)\n",
        "\n",
        "#Métrica de Evaluación - Como se comporto el modelo identificando la PreApr-PreNeg\n",
        "cm=confusion_matrix(yd,ydp)"
      ],
      "metadata": {
        "colab": {
          "base_uri": "https://localhost:8080/"
        },
        "id": "a36cQrbJn8d6",
        "outputId": "2849137f-9d0d-422b-a01c-1be445e77001"
      },
      "execution_count": null,
      "outputs": [
        {
          "output_type": "stream",
          "name": "stdout",
          "text": [
            "La media de las variables por categoría:\n",
            "[[  40.98411626  431.42680644  401.54995644   16.88529983]\n",
            " [  41.10752688 1029.98947251  900.19312144   43.3269839 ]]\n",
            "El limite inferior de la variación de las variables por categoria es:\n",
            "[[ 28.77108358 105.62889147  58.77709557 -12.88412769]\n",
            " [ 28.85646196 557.55604444 374.75974307 -21.65436704]]\n",
            "El limite superior de la variación de las variables por categoria es:\n",
            "[[  53.19714893  757.22472141  744.32281731   46.65472735]\n",
            " [  53.35859181 1502.42290058 1425.62649981  108.30833484]]\n"
          ]
        }
      ]
    },
    {
      "cell_type": "markdown",
      "source": [
        "4. Se procede con la evaluación del modelo"
      ],
      "metadata": {
        "id": "vhJ_LXT9zTxB"
      }
    },
    {
      "cell_type": "code",
      "source": [
        "VN=cm[0,0] #Verdaderos Negativos\n",
        "FP=cm[0,1] #Falsos Positivos\n",
        "FN=cm[1,0] #Falsos Negativos\n",
        "VP=cm[1,1] #Verdaderos Positivos\n",
        "\n",
        "Exactitud=(VP+VN)/len(XD)\n",
        "print(\"La exactitud del modelo es: \",Exactitud) #Comportamiento general\n",
        "\n",
        "TE=(FN+FP)/len(XD)\n",
        "print(\"La tasa de error es: \",TE) #Porcentaje equivociones\n",
        "\n",
        "Sensibilidad=VP/(VP+FP)\n",
        "print(\"La sensibilidad es:\" ,Sensibilidad) #Como se comporto frente a los positivos\n",
        "\n",
        "Especificidad=VN/(VN+FN)\n",
        "print(\"Especificidad es: \",Especificidad) #Como se comportaron frente a los negativos\n",
        "\n",
        "Precision=VP/(VP+FN)\n",
        "print(\"La precisión es: \",Precision) #Como se comportaron frente a los positivos\n",
        "\n",
        "PredNeg=VN/(VN+FP)\n",
        "print(\"La probabilidad de Negativo es: \",PredNeg) #Como se comportaron frente a los negativos\n"
      ],
      "metadata": {
        "colab": {
          "base_uri": "https://localhost:8080/"
        },
        "id": "eI0xR3dtzXOr",
        "outputId": "87b0952d-8ec4-4da2-f268-7c5ea99631f0"
      },
      "execution_count": null,
      "outputs": [
        {
          "output_type": "stream",
          "name": "stdout",
          "text": [
            "La exactitud del modelo es:  0.7281752824375214\n",
            "La tasa de error es:  0.2718247175624786\n",
            "La sensibilidad es: 0.8102539530426449\n",
            "Especificidad es:  0.6825565912117177\n",
            "La precisión es:  0.5865417967395075\n",
            "La probabilidad de Negativo es:  0.8661710037174721\n"
          ]
        }
      ]
    },
    {
      "cell_type": "markdown",
      "source": [
        "5. Que pasa con una sola persona"
      ],
      "metadata": {
        "id": "9r37mNS042Nd"
      }
    },
    {
      "cell_type": "code",
      "source": [
        "Xun=np.array([[38, 1356, 1686, 18]]) #Esta la persona del Excel\n",
        "ydun=mnb.predict(Xun)\n",
        "print(ydun)\n"
      ],
      "metadata": {
        "colab": {
          "base_uri": "https://localhost:8080/"
        },
        "id": "yRUChYUh46Sg",
        "outputId": "e0dc4635-fdff-4443-eb8c-1b4b90679528"
      },
      "execution_count": null,
      "outputs": [
        {
          "output_type": "stream",
          "name": "stdout",
          "text": [
            "[1]\n"
          ]
        }
      ]
    },
    {
      "cell_type": "markdown",
      "source": [
        "Análisis de Resultados\n",
        "De los resultados se puede obervar que los preaprobados en general presentan edades(), ingresos (), egresos (), y cuotas () mayores a los aprobados. Con respecto a las metricas se puede observar que el modelo funcionó mejor clasificando los positivos, como dice el indicador de sensibilidad el cual alcanzó el 81% de certeza. De manera general se puede observar que el modelo logró con exactitud 70% en promedio, y la tasa de error cercana al 30% en promedio. De manera general esta exactitud lo convierte en un buen modelo. Con respecto al solicitante de crédito tal y tal este pertenece a al categoría de aprobado."
      ],
      "metadata": {
        "id": "-ip_L49T5M1o"
      }
    }
  ]
}